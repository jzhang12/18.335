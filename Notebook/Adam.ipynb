{
 "cells": [
  {
   "cell_type": "code",
   "execution_count": null,
   "metadata": {
    "collapsed": true
   },
   "outputs": [],
   "source": []
  },
  {
   "cell_type": "code",
   "execution_count": 19,
   "metadata": {
    "collapsed": true
   },
   "outputs": [],
   "source": [
    "# Imports\n",
    "%matplotlib inline\n",
    "%config InlineBackend.figure_format = 'retina'\n",
    "\n",
    "import numpy as np\n",
    "import matplotlib.pyplot as plt\n",
    "import theano\n",
    "import theano.tensor as T"
   ]
  },
  {
   "cell_type": "code",
   "execution_count": 13,
   "metadata": {
    "collapsed": true
   },
   "outputs": [],
   "source": [
    "def opt_func(theta):\n",
    "    return theta**2-theta"
   ]
  },
  {
   "cell_type": "code",
   "execution_count": 15,
   "metadata": {
    "collapsed": true
   },
   "outputs": [],
   "source": [
    "def grad_func(x):\n",
    "    return 2*theta - 1\n",
    "\n",
    "theta_0 = 0\n",
    "m_t = 0 \n",
    "v_t = 0 \n",
    "t = 0"
   ]
  },
  {
   "cell_type": "code",
   "execution_count": 30,
   "metadata": {
    "collapsed": true
   },
   "outputs": [],
   "source": [
    "alpha = 0.001\n",
    "beta_1 = 0.9\n",
    "beta_2 = 0.999\n",
    "eps = 1e-8\n",
    "\n",
    "params = np.array([1, 2, 3])"
   ]
  },
  {
   "cell_type": "code",
   "execution_count": 31,
   "metadata": {
    "collapsed": true
   },
   "outputs": [],
   "source": [
    "ms = [np.zeros(p.shape) for p in params]\n",
    "vs = [np.zeros(p.shape) for p in params]\n",
    "ret = [None] * len(params)\n",
    "\n",
    "def step(params, grads):\n",
    "    t = t+1\n",
    "    \n",
    "    alpha_t = alpha * (np.sqrt(1. - np.power(beta_2, t)) /\n",
    "                     (1. - np.power(beta_1, t)))\n",
    "    m_t = (beta_1 * m) + (1. - beta_1) * g\n",
    "    v_t = (beta_2 * v) + (1. - beta_2) * np.square(g)\n",
    "    p_t = p - lr_t * m_t / (np.sqrt(v_t) + self.epsilon)\n",
    "    \n",
    "    ms[i] = m_t\n",
    "    vs[i] = v_t\n",
    "    ret[i] = p_t"
   ]
  },
  {
   "cell_type": "code",
   "execution_count": null,
   "metadata": {
    "collapsed": true
   },
   "outputs": [],
   "source": []
  }
 ],
 "metadata": {
  "kernelspec": {
   "display_name": "Python 2",
   "language": "python",
   "name": "python2"
  },
  "language_info": {
   "codemirror_mode": {
    "name": "ipython",
    "version": 2
   },
   "file_extension": ".py",
   "mimetype": "text/x-python",
   "name": "python",
   "nbconvert_exporter": "python",
   "pygments_lexer": "ipython2",
   "version": "2.7.13"
  }
 },
 "nbformat": 4,
 "nbformat_minor": 2
}
